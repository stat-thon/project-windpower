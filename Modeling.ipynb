{
 "cells": [
  {
   "cell_type": "code",
   "execution_count": 8,
   "id": "cb0b3e53-57bf-4f94-932b-2fb3dee8956e",
   "metadata": {},
   "outputs": [],
   "source": [
    "import pandas as pd\n",
    "import numpy as np\n",
    "import random\n",
    "import os\n",
    "import math\n",
    "\n",
    "from sklearn.ensemble import RandomForestRegressor\n",
    "from sklearn.model_selection import cross_val_score, GridSearchCV, train_test_split, KFold\n",
    "from sklearn.metrics import mean_absolute_error"
   ]
  },
  {
   "cell_type": "code",
   "execution_count": 4,
   "id": "0229b44b-9119-4980-a3ec-785094c36da3",
   "metadata": {},
   "outputs": [],
   "source": [
    "def seed_everything(seed):\n",
    "    random.seed(seed)\n",
    "    os.environ['PYTHONHASHSEED'] = str(seed)\n",
    "    np.random.seed(seed)\n",
    "\n",
    "seed_everything(42) # Seed 고정"
   ]
  },
  {
   "cell_type": "code",
   "execution_count": 5,
   "id": "415d243b-4080-4b50-8011-d6ff0d5f0556",
   "metadata": {},
   "outputs": [],
   "source": [
    "sample_submission = pd.read_csv('./data/sample_submission.csv')\n",
    "train = pd.read_csv('./data/train.csv')\n",
    "test = pd.read_csv('./data/test.csv')"
   ]
  },
  {
   "cell_type": "code",
   "execution_count": 6,
   "id": "86d4f28c-b856-41ab-b732-fdd31fb85d01",
   "metadata": {},
   "outputs": [
    {
     "data": {
      "text/html": [
       "<div>\n",
       "<style scoped>\n",
       "    .dataframe tbody tr th:only-of-type {\n",
       "        vertical-align: middle;\n",
       "    }\n",
       "\n",
       "    .dataframe tbody tr th {\n",
       "        vertical-align: top;\n",
       "    }\n",
       "\n",
       "    .dataframe thead th {\n",
       "        text-align: right;\n",
       "    }\n",
       "</style>\n",
       "<table border=\"1\" class=\"dataframe\">\n",
       "  <thead>\n",
       "    <tr style=\"text-align: right;\">\n",
       "      <th></th>\n",
       "      <th>id</th>\n",
       "      <th>temperature</th>\n",
       "      <th>pressure</th>\n",
       "      <th>humidity</th>\n",
       "      <th>wind_speed</th>\n",
       "      <th>wind_direction</th>\n",
       "      <th>precipitation</th>\n",
       "      <th>snowing</th>\n",
       "      <th>cloudiness</th>\n",
       "      <th>target</th>\n",
       "    </tr>\n",
       "  </thead>\n",
       "  <tbody>\n",
       "    <tr>\n",
       "      <th>0</th>\n",
       "      <td>TRAIN_00000</td>\n",
       "      <td>27.8816</td>\n",
       "      <td>1013.6</td>\n",
       "      <td>46.8</td>\n",
       "      <td>2.4</td>\n",
       "      <td>232.4</td>\n",
       "      <td>0.00</td>\n",
       "      <td>False</td>\n",
       "      <td>0.0</td>\n",
       "      <td>1.180</td>\n",
       "    </tr>\n",
       "    <tr>\n",
       "      <th>1</th>\n",
       "      <td>TRAIN_00001</td>\n",
       "      <td>5.7540</td>\n",
       "      <td>1026.6</td>\n",
       "      <td>76.6</td>\n",
       "      <td>3.6</td>\n",
       "      <td>172.0</td>\n",
       "      <td>0.00</td>\n",
       "      <td>False</td>\n",
       "      <td>8.8</td>\n",
       "      <td>8.581</td>\n",
       "    </tr>\n",
       "    <tr>\n",
       "      <th>2</th>\n",
       "      <td>TRAIN_00002</td>\n",
       "      <td>20.8220</td>\n",
       "      <td>1016.2</td>\n",
       "      <td>64.8</td>\n",
       "      <td>2.2</td>\n",
       "      <td>206.0</td>\n",
       "      <td>0.06</td>\n",
       "      <td>False</td>\n",
       "      <td>23.0</td>\n",
       "      <td>3.978</td>\n",
       "    </tr>\n",
       "    <tr>\n",
       "      <th>3</th>\n",
       "      <td>TRAIN_00003</td>\n",
       "      <td>20.0758</td>\n",
       "      <td>1017.4</td>\n",
       "      <td>72.6</td>\n",
       "      <td>0.8</td>\n",
       "      <td>215.4</td>\n",
       "      <td>0.00</td>\n",
       "      <td>False</td>\n",
       "      <td>0.0</td>\n",
       "      <td>8.301</td>\n",
       "    </tr>\n",
       "    <tr>\n",
       "      <th>4</th>\n",
       "      <td>TRAIN_00004</td>\n",
       "      <td>7.5260</td>\n",
       "      <td>1023.2</td>\n",
       "      <td>82.8</td>\n",
       "      <td>1.2</td>\n",
       "      <td>158.0</td>\n",
       "      <td>0.00</td>\n",
       "      <td>False</td>\n",
       "      <td>15.0</td>\n",
       "      <td>1.692</td>\n",
       "    </tr>\n",
       "  </tbody>\n",
       "</table>\n",
       "</div>"
      ],
      "text/plain": [
       "            id  temperature  pressure  humidity  wind_speed  wind_direction  \\\n",
       "0  TRAIN_00000      27.8816    1013.6      46.8         2.4           232.4   \n",
       "1  TRAIN_00001       5.7540    1026.6      76.6         3.6           172.0   \n",
       "2  TRAIN_00002      20.8220    1016.2      64.8         2.2           206.0   \n",
       "3  TRAIN_00003      20.0758    1017.4      72.6         0.8           215.4   \n",
       "4  TRAIN_00004       7.5260    1023.2      82.8         1.2           158.0   \n",
       "\n",
       "   precipitation  snowing  cloudiness  target  \n",
       "0           0.00    False         0.0   1.180  \n",
       "1           0.00    False         8.8   8.581  \n",
       "2           0.06    False        23.0   3.978  \n",
       "3           0.00    False         0.0   8.301  \n",
       "4           0.00    False        15.0   1.692  "
      ]
     },
     "execution_count": 6,
     "metadata": {},
     "output_type": "execute_result"
    }
   ],
   "source": [
    "train.head()"
   ]
  },
  {
   "cell_type": "code",
   "execution_count": 7,
   "id": "f72654c3-4e10-49fc-9889-1830bd0448e3",
   "metadata": {},
   "outputs": [
    {
     "data": {
      "text/html": [
       "<div>\n",
       "<style scoped>\n",
       "    .dataframe tbody tr th:only-of-type {\n",
       "        vertical-align: middle;\n",
       "    }\n",
       "\n",
       "    .dataframe tbody tr th {\n",
       "        vertical-align: top;\n",
       "    }\n",
       "\n",
       "    .dataframe thead th {\n",
       "        text-align: right;\n",
       "    }\n",
       "</style>\n",
       "<table border=\"1\" class=\"dataframe\">\n",
       "  <thead>\n",
       "    <tr style=\"text-align: right;\">\n",
       "      <th></th>\n",
       "      <th>temperature</th>\n",
       "      <th>pressure</th>\n",
       "      <th>humidity</th>\n",
       "      <th>wind_speed</th>\n",
       "      <th>wind_direction</th>\n",
       "      <th>precipitation</th>\n",
       "      <th>snowing</th>\n",
       "      <th>cloudiness</th>\n",
       "    </tr>\n",
       "  </thead>\n",
       "  <tbody>\n",
       "    <tr>\n",
       "      <th>0</th>\n",
       "      <td>27.8816</td>\n",
       "      <td>1013.6</td>\n",
       "      <td>46.8</td>\n",
       "      <td>2.4</td>\n",
       "      <td>232.4</td>\n",
       "      <td>0.00</td>\n",
       "      <td>0</td>\n",
       "      <td>0.0</td>\n",
       "    </tr>\n",
       "    <tr>\n",
       "      <th>1</th>\n",
       "      <td>5.7540</td>\n",
       "      <td>1026.6</td>\n",
       "      <td>76.6</td>\n",
       "      <td>3.6</td>\n",
       "      <td>172.0</td>\n",
       "      <td>0.00</td>\n",
       "      <td>0</td>\n",
       "      <td>8.8</td>\n",
       "    </tr>\n",
       "    <tr>\n",
       "      <th>2</th>\n",
       "      <td>20.8220</td>\n",
       "      <td>1016.2</td>\n",
       "      <td>64.8</td>\n",
       "      <td>2.2</td>\n",
       "      <td>206.0</td>\n",
       "      <td>0.06</td>\n",
       "      <td>0</td>\n",
       "      <td>23.0</td>\n",
       "    </tr>\n",
       "    <tr>\n",
       "      <th>3</th>\n",
       "      <td>20.0758</td>\n",
       "      <td>1017.4</td>\n",
       "      <td>72.6</td>\n",
       "      <td>0.8</td>\n",
       "      <td>215.4</td>\n",
       "      <td>0.00</td>\n",
       "      <td>0</td>\n",
       "      <td>0.0</td>\n",
       "    </tr>\n",
       "    <tr>\n",
       "      <th>4</th>\n",
       "      <td>7.5260</td>\n",
       "      <td>1023.2</td>\n",
       "      <td>82.8</td>\n",
       "      <td>1.2</td>\n",
       "      <td>158.0</td>\n",
       "      <td>0.00</td>\n",
       "      <td>0</td>\n",
       "      <td>15.0</td>\n",
       "    </tr>\n",
       "  </tbody>\n",
       "</table>\n",
       "</div>"
      ],
      "text/plain": [
       "   temperature  pressure  humidity  wind_speed  wind_direction  precipitation  \\\n",
       "0      27.8816    1013.6      46.8         2.4           232.4           0.00   \n",
       "1       5.7540    1026.6      76.6         3.6           172.0           0.00   \n",
       "2      20.8220    1016.2      64.8         2.2           206.0           0.06   \n",
       "3      20.0758    1017.4      72.6         0.8           215.4           0.00   \n",
       "4       7.5260    1023.2      82.8         1.2           158.0           0.00   \n",
       "\n",
       "   snowing  cloudiness  \n",
       "0        0         0.0  \n",
       "1        0         8.8  \n",
       "2        0        23.0  \n",
       "3        0         0.0  \n",
       "4        0        15.0  "
      ]
     },
     "execution_count": 7,
     "metadata": {},
     "output_type": "execute_result"
    }
   ],
   "source": [
    "train_X = train.drop(['id', 'target'], axis = 1)\n",
    "train_y = train['target']\n",
    "\n",
    "test_X = test.drop('id', axis = 1)\n",
    "\n",
    "from sklearn.preprocessing import LabelEncoder\n",
    "le = LabelEncoder()\n",
    "le = le.fit(train_X['snowing'])\n",
    "train_X['snowing'] = le.transform(train_X['snowing'])\n",
    "\n",
    "for label in np.unique(test_X['snowing']):\n",
    "    if label not in le.classes_:\n",
    "        le.classes_ = np.append(le.classes_, label)\n",
    "    test_X['snowing'] = le.transform(test_X['snowing'])\n",
    "\n",
    "train_X.head(5)"
   ]
  },
  {
   "cell_type": "code",
   "execution_count": 11,
   "id": "aaaacc31",
   "metadata": {},
   "outputs": [],
   "source": [
    "X = np.array(train_X)\n",
    "y  = train_y\n",
    "\n",
    "kf = KFold(n_splits = 10, shuffle = True)\n",
    "\n",
    "for train_index, test_index in kf.split(X):\n",
    "    X_train, X_test = X[train_index], X[test_index]\n",
    "    y_train, y_test = y[train_index], y[test_index]"
   ]
  },
  {
   "cell_type": "code",
   "execution_count": 29,
   "id": "6d8f343e",
   "metadata": {},
   "outputs": [
    {
     "name": "stdout",
     "output_type": "stream",
     "text": [
      "(13492, 8) (5783, 8) (13492,) (5783,)\n"
     ]
    }
   ],
   "source": [
    "X_train, X_valid, y_train, y_valid = train_test_split(train_X, train_y, test_size = 0.3)\n",
    "print(X_train.shape, X_valid.shape, y_train.shape, y_valid.shape)"
   ]
  },
  {
   "attachments": {},
   "cell_type": "markdown",
   "id": "1a206394",
   "metadata": {},
   "source": [
    "# RandomForest Regressor"
   ]
  },
  {
   "cell_type": "code",
   "execution_count": 12,
   "id": "3fd42613",
   "metadata": {},
   "outputs": [
    {
     "name": "stdout",
     "output_type": "stream",
     "text": [
      "각 분할의 정확도 기록 : [2.2211314265247046, 2.15745289540198, 2.1635049564215563, 2.224207495167557, 2.3070518445777863, 2.176233193075797, 2.2622865330545214, 2.235996738878551, 2.235553516426164, 2.1593646828672215]\n",
      "평균 정확도 : 2.214278328239584\n"
     ]
    }
   ],
   "source": [
    "history = []\n",
    "\n",
    "for train_index, test_index in kf.split(X):\n",
    "\n",
    "    X_train, X_test = X[train_index], X[test_index]\n",
    "    y_train, y_test = y[train_index], y[test_index]\n",
    "\n",
    "    model = RandomForestRegressor(n_estimators = 5, max_depth = 10, min_samples_leaf = 4, min_samples_split = 4)\n",
    "    model.fit(X_train, y_train)\n",
    "\n",
    "    y_pred = model.predict(X_test)\n",
    "    history.append(mean_absolute_error(y_pred, y_test))\n",
    "\n",
    "print(\"각 분할의 MAE 기록 :\", history)\n",
    "print(\"평균 MAE :\", np.mean(history))\n"
   ]
  },
  {
   "attachments": {},
   "cell_type": "markdown",
   "id": "c86addbd",
   "metadata": {},
   "source": [
    "# xgbregressor"
   ]
  },
  {
   "cell_type": "code",
   "execution_count": 17,
   "id": "ff298de4",
   "metadata": {},
   "outputs": [
    {
     "name": "stdout",
     "output_type": "stream",
     "text": [
      "각 분할의 정확도 기록 : [2.147238798621779, 2.1091607829401604, 2.0839776723063337, 2.1869606414232017, 2.141244092244825, 2.100634103595375, 2.1424366331778475, 2.144260598993326, 2.135823174059422, 2.1343504088035075]\n",
      "xgboost 평균 정확도 : 2.1326086906165775\n"
     ]
    }
   ],
   "source": [
    "import xgboost\n",
    "\n",
    "xgb_history = []\n",
    "\n",
    "for train_index, test_index in kf.split(X):\n",
    "\n",
    "    X_train, X_test = X[train_index], X[test_index]\n",
    "    y_train, y_test = y[train_index], y[test_index]\n",
    "\n",
    "    xgb_model = xgboost.XGBRegressor(n_estimators = 100, learning_rate = 0.08, gamma = 0, subsample = 0.75,\n",
    "                                 colsample_bytree = 1, max_depth = 7)\n",
    "    xgb_model.fit(X_train, y_train)\n",
    "\n",
    "    y_pred = xgb_model.predict(X_test)\n",
    "    xgb_history.append(mean_absolute_error(y_pred, y_test))\n",
    "\n",
    "print(\"각 분할의 MAE 기록 :\", xgb_history)\n",
    "print(\"xgboost 평균 MAE :\", np.mean(xgb_history))\n"
   ]
  },
  {
   "cell_type": "code",
   "execution_count": 18,
   "id": "c75fe6b5",
   "metadata": {},
   "outputs": [
    {
     "name": "stdout",
     "output_type": "stream",
     "text": [
      "각 분할의 MAE 기록 : [2.163715243377626, 2.1213034611801884, 2.0146955141575997, 2.1698621713793624, 2.195672443064417, 2.119460921184597, 2.100841874070655, 2.1141640489238744, 2.1583622728307197, 2.1060761039829896]\n",
      "xgboost 평균 MAE : 2.1264154054152025\n"
     ]
    }
   ],
   "source": [
    "import xgboost\n",
    "\n",
    "xgb_history = []\n",
    "\n",
    "for train_index, test_index in kf.split(X):\n",
    "\n",
    "    X_train, X_test = X[train_index], X[test_index]\n",
    "    y_train, y_test = y[train_index], y[test_index]\n",
    "\n",
    "    xgb_model = xgboost.XGBRegressor(n_estimators = 100, learning_rate = 0.08, gamma = 0, subsample = 0.75,\n",
    "                                     colsample_bytree = 1, max_depth = 7, eta = 0.1, eval_metric = 'mae')\n",
    "    xgb_model.fit(X_train, y_train)\n",
    "\n",
    "    y_pred = xgb_model.predict(X_test)\n",
    "    xgb_history.append(mean_absolute_error(y_pred, y_test))\n",
    "\n",
    "print(\"각 분할의 MAE 기록 :\", xgb_history)\n",
    "print(\"xgboost 평균 MAE :\", np.mean(xgb_history))\n"
   ]
  },
  {
   "cell_type": "code",
   "execution_count": 57,
   "id": "84671080",
   "metadata": {},
   "outputs": [
    {
     "name": "stdout",
     "output_type": "stream",
     "text": [
      "각 분할의 MAE 기록 : [2.1561298373358873, 2.1181693638597783, 2.123151361091008, 2.093192208640803, 2.1282847796366915, 2.102128319951618, 2.0850064442060003, 2.1073106657205374, 2.039328862089287, 2.1381969700696]\n",
      "xgboost 평균 MAE : 2.1090898812601213\n"
     ]
    }
   ],
   "source": [
    "import xgboost\n",
    "\n",
    "xgb_history = []\n",
    "\n",
    "for train_index, test_index in kf.split(X):\n",
    "\n",
    "    X_train, X_test = X[train_index], X[test_index]\n",
    "    y_train, y_test = y[train_index], y[test_index]\n",
    "\n",
    "    xgb_model = xgboost.XGBRegressor(n_estimators = 50, learning_rate = 0.05, gamma = 0, subsample = 0.75,\n",
    "                                     colsample_bytree = 1, max_depth = 10, eta = 0.1, eval_metric = 'mae')\n",
    "    xgb_model.fit(X_train, y_train)\n",
    "\n",
    "    y_pred = xgb_model.predict(X_test)\n",
    "    xgb_history.append(mean_absolute_error(y_pred, y_test))\n",
    "\n",
    "print(\"각 분할의 MAE 기록 :\", xgb_history)\n",
    "print(\"xgboost 평균 MAE :\", np.mean(xgb_history))\n"
   ]
  },
  {
   "cell_type": "code",
   "execution_count": 59,
   "id": "3132217a",
   "metadata": {},
   "outputs": [
    {
     "data": {
      "text/html": [
       "<div>\n",
       "<style scoped>\n",
       "    .dataframe tbody tr th:only-of-type {\n",
       "        vertical-align: middle;\n",
       "    }\n",
       "\n",
       "    .dataframe tbody tr th {\n",
       "        vertical-align: top;\n",
       "    }\n",
       "\n",
       "    .dataframe thead th {\n",
       "        text-align: right;\n",
       "    }\n",
       "</style>\n",
       "<table border=\"1\" class=\"dataframe\">\n",
       "  <thead>\n",
       "    <tr style=\"text-align: right;\">\n",
       "      <th></th>\n",
       "      <th>id</th>\n",
       "      <th>target</th>\n",
       "    </tr>\n",
       "  </thead>\n",
       "  <tbody>\n",
       "    <tr>\n",
       "      <th>0</th>\n",
       "      <td>TEST_00000</td>\n",
       "      <td>4.546853</td>\n",
       "    </tr>\n",
       "    <tr>\n",
       "      <th>1</th>\n",
       "      <td>TEST_00001</td>\n",
       "      <td>4.544888</td>\n",
       "    </tr>\n",
       "    <tr>\n",
       "      <th>2</th>\n",
       "      <td>TEST_00002</td>\n",
       "      <td>5.682084</td>\n",
       "    </tr>\n",
       "    <tr>\n",
       "      <th>3</th>\n",
       "      <td>TEST_00003</td>\n",
       "      <td>4.292146</td>\n",
       "    </tr>\n",
       "    <tr>\n",
       "      <th>4</th>\n",
       "      <td>TEST_00004</td>\n",
       "      <td>5.526654</td>\n",
       "    </tr>\n",
       "  </tbody>\n",
       "</table>\n",
       "</div>"
      ],
      "text/plain": [
       "           id    target\n",
       "0  TEST_00000  4.546853\n",
       "1  TEST_00001  4.544888\n",
       "2  TEST_00002  5.682084\n",
       "3  TEST_00003  4.292146\n",
       "4  TEST_00004  5.526654"
      ]
     },
     "execution_count": 59,
     "metadata": {},
     "output_type": "execute_result"
    }
   ],
   "source": [
    "xgb_pred = xgb_model.predict(test_X)\n",
    "submit = pd.read_csv('./data/sample_submission.csv')\n",
    "submit['target'] = xgb_pred\n",
    "submit.head()"
   ]
  },
  {
   "cell_type": "code",
   "execution_count": 61,
   "id": "0b98243f",
   "metadata": {},
   "outputs": [],
   "source": [
    "submit.to_csv('./submission/submit_xgb.csv', index = False)"
   ]
  },
  {
   "attachments": {},
   "cell_type": "markdown",
   "id": "7addc94d",
   "metadata": {},
   "source": [
    "# 피처 선택"
   ]
  },
  {
   "cell_type": "code",
   "execution_count": 70,
   "id": "d7f95d92",
   "metadata": {},
   "outputs": [
    {
     "data": {
      "text/plain": [
       "array([0.08204587, 0.08940826, 0.07785956, 0.31594583, 0.09196253,\n",
       "       0.09120276, 0.16873308, 0.08284205], dtype=float32)"
      ]
     },
     "execution_count": 70,
     "metadata": {},
     "output_type": "execute_result"
    }
   ],
   "source": [
    "xgb_model.feature_importances_"
   ]
  },
  {
   "cell_type": "code",
   "execution_count": 71,
   "id": "7a466326",
   "metadata": {},
   "outputs": [
    {
     "data": {
      "text/plain": [
       "Index(['temperature', 'pressure', 'humidity', 'wind_speed', 'wind_direction',\n",
       "       'precipitation', 'snowing', 'cloudiness'],\n",
       "      dtype='object')"
      ]
     },
     "execution_count": 71,
     "metadata": {},
     "output_type": "execute_result"
    }
   ],
   "source": [
    "train_X.columns"
   ]
  },
  {
   "cell_type": "code",
   "execution_count": 76,
   "id": "0597e9c2",
   "metadata": {},
   "outputs": [
    {
     "name": "stderr",
     "output_type": "stream",
     "text": [
      "C:\\Users\\thon\\AppData\\Local\\Temp\\ipykernel_18916\\3500949374.py:10: SettingWithCopyWarning: \n",
      "A value is trying to be set on a copy of a slice from a DataFrame.\n",
      "Try using .loc[row_indexer,col_indexer] = value instead\n",
      "\n",
      "See the caveats in the documentation: https://pandas.pydata.org/pandas-docs/stable/user_guide/indexing.html#returning-a-view-versus-a-copy\n",
      "  new_train_X['snowing'] = le.transform(new_train_X['snowing'])\n",
      "C:\\Users\\thon\\AppData\\Local\\Temp\\ipykernel_18916\\3500949374.py:15: SettingWithCopyWarning: \n",
      "A value is trying to be set on a copy of a slice from a DataFrame.\n",
      "Try using .loc[row_indexer,col_indexer] = value instead\n",
      "\n",
      "See the caveats in the documentation: https://pandas.pydata.org/pandas-docs/stable/user_guide/indexing.html#returning-a-view-versus-a-copy\n",
      "  new_test_X['snowing'] = le.transform(new_test_X['snowing'])\n"
     ]
    },
    {
     "data": {
      "text/html": [
       "<div>\n",
       "<style scoped>\n",
       "    .dataframe tbody tr th:only-of-type {\n",
       "        vertical-align: middle;\n",
       "    }\n",
       "\n",
       "    .dataframe tbody tr th {\n",
       "        vertical-align: top;\n",
       "    }\n",
       "\n",
       "    .dataframe thead th {\n",
       "        text-align: right;\n",
       "    }\n",
       "</style>\n",
       "<table border=\"1\" class=\"dataframe\">\n",
       "  <thead>\n",
       "    <tr style=\"text-align: right;\">\n",
       "      <th></th>\n",
       "      <th>wind_speed</th>\n",
       "      <th>snowing</th>\n",
       "      <th>wind_direction</th>\n",
       "      <th>precipitation</th>\n",
       "    </tr>\n",
       "  </thead>\n",
       "  <tbody>\n",
       "    <tr>\n",
       "      <th>0</th>\n",
       "      <td>2.4</td>\n",
       "      <td>0</td>\n",
       "      <td>232.4</td>\n",
       "      <td>0.00</td>\n",
       "    </tr>\n",
       "    <tr>\n",
       "      <th>1</th>\n",
       "      <td>3.6</td>\n",
       "      <td>0</td>\n",
       "      <td>172.0</td>\n",
       "      <td>0.00</td>\n",
       "    </tr>\n",
       "    <tr>\n",
       "      <th>2</th>\n",
       "      <td>2.2</td>\n",
       "      <td>0</td>\n",
       "      <td>206.0</td>\n",
       "      <td>0.06</td>\n",
       "    </tr>\n",
       "    <tr>\n",
       "      <th>3</th>\n",
       "      <td>0.8</td>\n",
       "      <td>0</td>\n",
       "      <td>215.4</td>\n",
       "      <td>0.00</td>\n",
       "    </tr>\n",
       "    <tr>\n",
       "      <th>4</th>\n",
       "      <td>1.2</td>\n",
       "      <td>0</td>\n",
       "      <td>158.0</td>\n",
       "      <td>0.00</td>\n",
       "    </tr>\n",
       "  </tbody>\n",
       "</table>\n",
       "</div>"
      ],
      "text/plain": [
       "   wind_speed  snowing  wind_direction  precipitation\n",
       "0         2.4        0           232.4           0.00\n",
       "1         3.6        0           172.0           0.00\n",
       "2         2.2        0           206.0           0.06\n",
       "3         0.8        0           215.4           0.00\n",
       "4         1.2        0           158.0           0.00"
      ]
     },
     "execution_count": 76,
     "metadata": {},
     "output_type": "execute_result"
    }
   ],
   "source": [
    "#wind_speed, snowing, wind_direction, precipitation\n",
    "new_train_X = train[['wind_speed', 'snowing', 'wind_direction', 'precipitation']]\n",
    "new_train_y = train['target']\n",
    "\n",
    "new_test_X = test[['wind_speed', 'snowing', 'wind_direction', 'precipitation']]\n",
    "\n",
    "from sklearn.preprocessing import LabelEncoder\n",
    "le = LabelEncoder()\n",
    "le = le.fit(new_train_X['snowing'])\n",
    "new_train_X['snowing'] = le.transform(new_train_X['snowing'])\n",
    "\n",
    "for label in np.unique(new_test_X['snowing']):\n",
    "    if label not in le.classes_:\n",
    "        le.classes_ = np.append(le.classes_, label)\n",
    "    new_test_X['snowing'] = le.transform(new_test_X['snowing'])\n",
    "\n",
    "new_train_X.head(5)"
   ]
  },
  {
   "cell_type": "code",
   "execution_count": 78,
   "id": "cd02d95c",
   "metadata": {},
   "outputs": [],
   "source": [
    "new_X = np.array(new_train_X)\n",
    "new_y  = new_train_y\n",
    "\n",
    "kf = KFold(n_splits = 10, shuffle = True)\n",
    "\n",
    "for train_index, test_index in kf.split(new_X):\n",
    "    new_X_train, new_X_test = new_X[train_index], new_X[test_index]\n",
    "    new_y_train, new_y_test = new_y[train_index], new_y[test_index]"
   ]
  },
  {
   "cell_type": "code",
   "execution_count": 79,
   "id": "a18221f7",
   "metadata": {},
   "outputs": [
    {
     "name": "stdout",
     "output_type": "stream",
     "text": [
      "각 분할의 MAE 기록 : [2.3327358487621876, 2.3591849655392756, 2.367902381088723, 2.349895808501857, 2.3292550634066593, 2.318583143729154, 2.3457182082031203, 2.3456883250495344, 2.318581778317953, 2.348110047016233]\n",
      "xgboost 평균 MAE : 2.34156555696147\n"
     ]
    }
   ],
   "source": [
    "import xgboost\n",
    "\n",
    "new_xgb_history = []\n",
    "\n",
    "for train_index, test_index in kf.split(new_X):\n",
    "\n",
    "    new_X_train, new_X_test = new_X[train_index], new_X[test_index]\n",
    "    new_y_train, new_y_test = new_y[train_index], new_y[test_index]\n",
    "\n",
    "    new_xgb_model = xgboost.XGBRegressor(n_estimators = 50, learning_rate = 0.05, gamma = 0, subsample = 0.75,\n",
    "                                     colsample_bytree = 1, max_depth = 10, eta = 0.1, eval_metric = 'mae')\n",
    "    new_xgb_model.fit(new_X_train, new_y_train)\n",
    "\n",
    "    new_y_pred = new_xgb_model.predict(new_X_test)\n",
    "    new_xgb_history.append(mean_absolute_error(new_y_pred, new_y_test))\n",
    "\n",
    "print(\"각 분할의 MAE 기록 :\", new_xgb_history)\n",
    "print(\"xgboost 평균 MAE :\", np.mean(new_xgb_history))\n"
   ]
  },
  {
   "cell_type": "code",
   "execution_count": 80,
   "id": "19ef56d8",
   "metadata": {},
   "outputs": [
    {
     "data": {
      "text/html": [
       "<div>\n",
       "<style scoped>\n",
       "    .dataframe tbody tr th:only-of-type {\n",
       "        vertical-align: middle;\n",
       "    }\n",
       "\n",
       "    .dataframe tbody tr th {\n",
       "        vertical-align: top;\n",
       "    }\n",
       "\n",
       "    .dataframe thead th {\n",
       "        text-align: right;\n",
       "    }\n",
       "</style>\n",
       "<table border=\"1\" class=\"dataframe\">\n",
       "  <thead>\n",
       "    <tr style=\"text-align: right;\">\n",
       "      <th></th>\n",
       "      <th>id</th>\n",
       "      <th>target</th>\n",
       "    </tr>\n",
       "  </thead>\n",
       "  <tbody>\n",
       "    <tr>\n",
       "      <th>0</th>\n",
       "      <td>TEST_00000</td>\n",
       "      <td>4.500935</td>\n",
       "    </tr>\n",
       "    <tr>\n",
       "      <th>1</th>\n",
       "      <td>TEST_00001</td>\n",
       "      <td>5.152166</td>\n",
       "    </tr>\n",
       "    <tr>\n",
       "      <th>2</th>\n",
       "      <td>TEST_00002</td>\n",
       "      <td>6.010781</td>\n",
       "    </tr>\n",
       "    <tr>\n",
       "      <th>3</th>\n",
       "      <td>TEST_00003</td>\n",
       "      <td>4.271572</td>\n",
       "    </tr>\n",
       "    <tr>\n",
       "      <th>4</th>\n",
       "      <td>TEST_00004</td>\n",
       "      <td>4.359322</td>\n",
       "    </tr>\n",
       "  </tbody>\n",
       "</table>\n",
       "</div>"
      ],
      "text/plain": [
       "           id    target\n",
       "0  TEST_00000  4.500935\n",
       "1  TEST_00001  5.152166\n",
       "2  TEST_00002  6.010781\n",
       "3  TEST_00003  4.271572\n",
       "4  TEST_00004  4.359322"
      ]
     },
     "execution_count": 80,
     "metadata": {},
     "output_type": "execute_result"
    }
   ],
   "source": [
    "new_xgb_pred = new_xgb_model.predict(new_test_X)\n",
    "submit = pd.read_csv('./data/sample_submission.csv')\n",
    "submit['target'] = new_xgb_pred\n",
    "submit.head()"
   ]
  },
  {
   "cell_type": "code",
   "execution_count": 82,
   "id": "5127f327",
   "metadata": {},
   "outputs": [],
   "source": [
    "submit.to_csv('./submission/submit_xgb_new.csv', index = False)"
   ]
  },
  {
   "attachments": {},
   "cell_type": "markdown",
   "id": "38ca35bb",
   "metadata": {},
   "source": [
    "# 표준화"
   ]
  },
  {
   "cell_type": "code",
   "execution_count": 25,
   "id": "fdada8be",
   "metadata": {},
   "outputs": [
    {
     "data": {
      "text/plain": [
       "array([[ 1.4728183 , -0.01817001, -1.49084221, ..., -0.39653084,\n",
       "        -0.08079242, -1.46071717],\n",
       "       [-1.6036996 , -0.01306008,  0.5150079 , ..., -0.39653084,\n",
       "        -0.08079242, -0.96151574],\n",
       "       [ 0.49128457, -0.01714802, -0.2792549 , ..., -0.08581968,\n",
       "        -0.08079242, -0.15598617],\n",
       "       ...,\n",
       "       [-0.49225127, -0.0235944 , -0.26579282, ...,  1.4677361 ,\n",
       "        -0.08079242,  1.54583687],\n",
       "       [ 0.28718072, -0.0158902 , -1.58507678, ..., -0.08581968,\n",
       "        -0.08079242, -0.32616848],\n",
       "       [-0.49449495, -0.02186488,  0.85155993, ..., -0.08581968,\n",
       "        -0.08079242,  1.04663544]])"
      ]
     },
     "execution_count": 25,
     "metadata": {},
     "output_type": "execute_result"
    }
   ],
   "source": [
    "from sklearn.preprocessing import StandardScaler, RobustScaler\n",
    "std_scaler = StandardScaler()\n",
    "std_X = std_scaler.fit_transform(X)\n",
    "std_X"
   ]
  },
  {
   "cell_type": "code",
   "execution_count": 39,
   "id": "96303ef5",
   "metadata": {},
   "outputs": [
    {
     "name": "stdout",
     "output_type": "stream",
     "text": [
      "(19275, 8) (19275, 8) (19275,)\n",
      "(17348, 8) (1927, 8) (17348,) (1927,)\n"
     ]
    }
   ],
   "source": [
    "X_train_std = pd.DataFrame(std_X ,columns = train_X.columns)\n",
    "std_X = np.array(X_train_std)\n",
    "std_y  = train_y\n",
    "\n",
    "print(X_train_std.shape, std_X.shape, std_y.shape)\n",
    "\n",
    "kf = KFold(n_splits = 10, shuffle = True)\n",
    "\n",
    "for train_index, test_index in kf.split(std_X):\n",
    "    \n",
    "    std_X_train, std_X_test = std_X[train_index], std_X[test_index]\n",
    "    std_y_train, std_y_test = std_y[train_index], std_y[test_index]\n",
    "\n",
    "print(std_X_train.shape, std_X_test.shape, std_y_train.shape, std_y_test.shape)"
   ]
  },
  {
   "cell_type": "code",
   "execution_count": 42,
   "id": "b8a8b180",
   "metadata": {},
   "outputs": [
    {
     "name": "stdout",
     "output_type": "stream",
     "text": [
      "각 분할의 MAE 기록 : [2.145942907053405, 2.017546757695586, 2.092173467260179, 2.172933436274034, 2.0423396994543275, 2.10673512335274, 2.111686885500672, 2.111497683711168, 2.149057383981219, 2.144541212644612]\n",
      "xgboost 평균 MAE : 2.109445455692794\n"
     ]
    }
   ],
   "source": [
    "import xgboost\n",
    "\n",
    "std_xgb_history = []\n",
    "\n",
    "for train_index, test_index in kf.split(std_X):\n",
    "\n",
    "    std_X_train, std_X_test = std_X[train_index], std_X[test_index]\n",
    "    std_y_train, std_y_test = std_y[train_index], std_y[test_index]\n",
    "\n",
    "    xgb_model = xgboost.XGBRegressor(n_estimators = 50, learning_rate = 0.05, gamma = 0, subsample = 0.75,\n",
    "                                     colsample_bytree = 1, max_depth = 10, eta = 0.1, eval_metric = 'mae')\n",
    "    xgb_model.fit(std_X_train, std_y_train)\n",
    "\n",
    "    std_y_pred = xgb_model.predict(std_X_test)\n",
    "    std_xgb_history.append(mean_absolute_error(std_y_pred, std_y_test))\n",
    "\n",
    "print(\"각 분할의 MAE 기록 :\", std_xgb_history)\n",
    "print(\"xgboost 평균 MAE :\", np.mean(std_xgb_history))\n"
   ]
  },
  {
   "cell_type": "code",
   "execution_count": 44,
   "id": "9e90bc89",
   "metadata": {},
   "outputs": [
    {
     "name": "stdout",
     "output_type": "stream",
     "text": [
      "각 분할의 MAE 기록 : [2.572634179364596, 2.613520151843668, 2.626659084976956, 2.5472003165958332, 2.5343171444171695, 2.589167132611218, 2.501800306668106, 2.498886892166296, 2.5057603456420976, 2.5543426031420498]\n",
      "xgboost 평균 MAE : 2.5544288157427992\n"
     ]
    }
   ],
   "source": [
    "import xgboost\n",
    "\n",
    "std_xgb_history = []\n",
    "\n",
    "for train_index, test_index in kf.split(std_X):\n",
    "\n",
    "    std_X_train, std_X_test = std_X[train_index], std_X[test_index]\n",
    "    std_y_train, std_y_test = std_y[train_index], std_y[test_index]\n",
    "\n",
    "    xgb_model = xgboost.XGBRegressor(n_estimators = 100, learning_rate = 0.01, gamma = 0, subsample = 0.75,\n",
    "                                     colsample_bytree = 1, max_depth = 10, eta = 0.1, eval_metric = 'mae')\n",
    "    xgb_model.fit(std_X_train, std_y_train)\n",
    "\n",
    "    std_y_pred = xgb_model.predict(std_X_test)\n",
    "    std_xgb_history.append(mean_absolute_error(std_y_pred, std_y_test))\n",
    "\n",
    "print(\"각 분할의 MAE 기록 :\", std_xgb_history)\n",
    "print(\"xgboost 평균 MAE :\", np.mean(std_xgb_history))\n"
   ]
  },
  {
   "cell_type": "code",
   "execution_count": 45,
   "id": "e7451dd3",
   "metadata": {},
   "outputs": [
    {
     "name": "stdout",
     "output_type": "stream",
     "text": [
      "각 분할의 MAE 기록 : [2.2397913612468607, 2.215826148523829, 2.147911403531355, 2.2097894885164076, 2.1505367661976713, 2.2328149728433537, 2.254095837678696, 2.19259105597547, 2.194956750158083, 2.222693395088049]\n",
      "xgboost 평균 MAE : 2.2061007179759775\n"
     ]
    }
   ],
   "source": [
    "import xgboost\n",
    "\n",
    "std_xgb_history = []\n",
    "\n",
    "for train_index, test_index in kf.split(std_X):\n",
    "\n",
    "    std_X_train, std_X_test = std_X[train_index], std_X[test_index]\n",
    "    std_y_train, std_y_test = std_y[train_index], std_y[test_index]\n",
    "\n",
    "    xgb_model = xgboost.XGBRegressor(n_estimators = 100, learning_rate = 0.08, gamma = 0, subsample = 0.75,\n",
    "                                     colsample_bytree = 1, max_depth = 5, eta = 0.1, eval_metric = 'mae')\n",
    "    xgb_model.fit(std_X_train, std_y_train)\n",
    "\n",
    "    std_y_pred = xgb_model.predict(std_X_test)\n",
    "    std_xgb_history.append(mean_absolute_error(std_y_pred, std_y_test))\n",
    "\n",
    "print(\"각 분할의 MAE 기록 :\", std_xgb_history)\n",
    "print(\"xgboost 평균 MAE :\", np.mean(std_xgb_history))\n"
   ]
  },
  {
   "cell_type": "code",
   "execution_count": 46,
   "id": "20bffebf",
   "metadata": {},
   "outputs": [
    {
     "name": "stdout",
     "output_type": "stream",
     "text": [
      "각 분할의 MAE 기록 : [2.229506760955352, 2.267197287599081, 2.209854504611977, 2.2494290732595434, 2.235188006371383, 2.1825461512636384, 2.2411997901845235, 2.2941809103114035, 2.251879190161863, 2.20248025279102]\n",
      "xgboost 평균 MAE : 2.2363461927509785\n"
     ]
    }
   ],
   "source": [
    "import xgboost\n",
    "\n",
    "std_xgb_history = []\n",
    "\n",
    "for train_index, test_index in kf.split(std_X):\n",
    "\n",
    "    std_X_train, std_X_test = std_X[train_index], std_X[test_index]\n",
    "    std_y_train, std_y_test = std_y[train_index], std_y[test_index]\n",
    "\n",
    "    xgb_model = xgboost.XGBRegressor(n_estimators = 70, learning_rate = 0.05, gamma = 0, subsample = 0.75,\n",
    "                                     colsample_bytree = 1, max_depth = 5, eta = 0.1, eval_metric = 'mae')\n",
    "    xgb_model.fit(std_X_train, std_y_train)\n",
    "\n",
    "    std_y_pred = xgb_model.predict(std_X_test)\n",
    "    std_xgb_history.append(mean_absolute_error(std_y_pred, std_y_test))\n",
    "\n",
    "print(\"각 분할의 MAE 기록 :\", std_xgb_history)\n",
    "print(\"xgboost 평균 MAE :\", np.mean(std_xgb_history))\n"
   ]
  },
  {
   "attachments": {},
   "cell_type": "markdown",
   "id": "983ca091-e0b9-45a3-b82b-33fb58ef7b27",
   "metadata": {},
   "source": [
    "# Random Forest Regressor GridCV"
   ]
  },
  {
   "cell_type": "code",
   "execution_count": 33,
   "id": "784833d6",
   "metadata": {},
   "outputs": [
    {
     "name": "stdout",
     "output_type": "stream",
     "text": [
      "최적 하이퍼 파라미터: {'max_depth': 9, 'min_samples_leaf': 2, 'min_samples_split': 4, 'n_estimators': 200}\n",
      "최적 예측 정확도: 0.2274\n"
     ]
    }
   ],
   "source": [
    "params = {\n",
    "    'n_estimators':[10, 50, 100, 200],\n",
    "    'max_depth' : [i for i in range(2, 10)],\n",
    "    'min_samples_leaf' : [2, 4, 6, 8, 10],\n",
    "    'min_samples_split' : [2, 4, 6, 8, 10]\n",
    "}\n",
    "\n",
    "rf_run = RandomForestRegressor(n_jobs = -1)\n",
    "grid_cv = GridSearchCV(rf_run, param_grid = params, cv = 3, n_jobs = -1)\n",
    "grid_cv.fit(X_train, y_train)\n",
    " \n",
    "print('최적 하이퍼 파라미터:', grid_cv.best_params_)\n",
    "print('최적 예측 정확도: {0:.4f}'.format(grid_cv.best_score_))"
   ]
  },
  {
   "cell_type": "code",
   "execution_count": 34,
   "id": "98a12111-4221-463e-af44-2c2eb6a92e1a",
   "metadata": {},
   "outputs": [
    {
     "data": {
      "text/html": [
       "<style>#sk-container-id-3 {color: black;background-color: white;}#sk-container-id-3 pre{padding: 0;}#sk-container-id-3 div.sk-toggleable {background-color: white;}#sk-container-id-3 label.sk-toggleable__label {cursor: pointer;display: block;width: 100%;margin-bottom: 0;padding: 0.3em;box-sizing: border-box;text-align: center;}#sk-container-id-3 label.sk-toggleable__label-arrow:before {content: \"▸\";float: left;margin-right: 0.25em;color: #696969;}#sk-container-id-3 label.sk-toggleable__label-arrow:hover:before {color: black;}#sk-container-id-3 div.sk-estimator:hover label.sk-toggleable__label-arrow:before {color: black;}#sk-container-id-3 div.sk-toggleable__content {max-height: 0;max-width: 0;overflow: hidden;text-align: left;background-color: #f0f8ff;}#sk-container-id-3 div.sk-toggleable__content pre {margin: 0.2em;color: black;border-radius: 0.25em;background-color: #f0f8ff;}#sk-container-id-3 input.sk-toggleable__control:checked~div.sk-toggleable__content {max-height: 200px;max-width: 100%;overflow: auto;}#sk-container-id-3 input.sk-toggleable__control:checked~label.sk-toggleable__label-arrow:before {content: \"▾\";}#sk-container-id-3 div.sk-estimator input.sk-toggleable__control:checked~label.sk-toggleable__label {background-color: #d4ebff;}#sk-container-id-3 div.sk-label input.sk-toggleable__control:checked~label.sk-toggleable__label {background-color: #d4ebff;}#sk-container-id-3 input.sk-hidden--visually {border: 0;clip: rect(1px 1px 1px 1px);clip: rect(1px, 1px, 1px, 1px);height: 1px;margin: -1px;overflow: hidden;padding: 0;position: absolute;width: 1px;}#sk-container-id-3 div.sk-estimator {font-family: monospace;background-color: #f0f8ff;border: 1px dotted black;border-radius: 0.25em;box-sizing: border-box;margin-bottom: 0.5em;}#sk-container-id-3 div.sk-estimator:hover {background-color: #d4ebff;}#sk-container-id-3 div.sk-parallel-item::after {content: \"\";width: 100%;border-bottom: 1px solid gray;flex-grow: 1;}#sk-container-id-3 div.sk-label:hover label.sk-toggleable__label {background-color: #d4ebff;}#sk-container-id-3 div.sk-serial::before {content: \"\";position: absolute;border-left: 1px solid gray;box-sizing: border-box;top: 0;bottom: 0;left: 50%;z-index: 0;}#sk-container-id-3 div.sk-serial {display: flex;flex-direction: column;align-items: center;background-color: white;padding-right: 0.2em;padding-left: 0.2em;position: relative;}#sk-container-id-3 div.sk-item {position: relative;z-index: 1;}#sk-container-id-3 div.sk-parallel {display: flex;align-items: stretch;justify-content: center;background-color: white;position: relative;}#sk-container-id-3 div.sk-item::before, #sk-container-id-3 div.sk-parallel-item::before {content: \"\";position: absolute;border-left: 1px solid gray;box-sizing: border-box;top: 0;bottom: 0;left: 50%;z-index: -1;}#sk-container-id-3 div.sk-parallel-item {display: flex;flex-direction: column;z-index: 1;position: relative;background-color: white;}#sk-container-id-3 div.sk-parallel-item:first-child::after {align-self: flex-end;width: 50%;}#sk-container-id-3 div.sk-parallel-item:last-child::after {align-self: flex-start;width: 50%;}#sk-container-id-3 div.sk-parallel-item:only-child::after {width: 0;}#sk-container-id-3 div.sk-dashed-wrapped {border: 1px dashed gray;margin: 0 0.4em 0.5em 0.4em;box-sizing: border-box;padding-bottom: 0.4em;background-color: white;}#sk-container-id-3 div.sk-label label {font-family: monospace;font-weight: bold;display: inline-block;line-height: 1.2em;}#sk-container-id-3 div.sk-label-container {text-align: center;}#sk-container-id-3 div.sk-container {/* jupyter's `normalize.less` sets `[hidden] { display: none; }` but bootstrap.min.css set `[hidden] { display: none !important; }` so we also need the `!important` here to be able to override the default hidden behavior on the sphinx rendered scikit-learn.org. See: https://github.com/scikit-learn/scikit-learn/issues/21755 */display: inline-block !important;position: relative;}#sk-container-id-3 div.sk-text-repr-fallback {display: none;}</style><div id=\"sk-container-id-3\" class=\"sk-top-container\"><div class=\"sk-text-repr-fallback\"><pre>RandomForestRegressor(max_depth=9, min_samples_leaf=2, min_samples_split=4,\n",
       "                      n_estimators=200)</pre><b>In a Jupyter environment, please rerun this cell to show the HTML representation or trust the notebook. <br />On GitHub, the HTML representation is unable to render, please try loading this page with nbviewer.org.</b></div><div class=\"sk-container\" hidden><div class=\"sk-item\"><div class=\"sk-estimator sk-toggleable\"><input class=\"sk-toggleable__control sk-hidden--visually\" id=\"sk-estimator-id-3\" type=\"checkbox\" checked><label for=\"sk-estimator-id-3\" class=\"sk-toggleable__label sk-toggleable__label-arrow\">RandomForestRegressor</label><div class=\"sk-toggleable__content\"><pre>RandomForestRegressor(max_depth=9, min_samples_leaf=2, min_samples_split=4,\n",
       "                      n_estimators=200)</pre></div></div></div></div></div>"
      ],
      "text/plain": [
       "RandomForestRegressor(max_depth=9, min_samples_leaf=2, min_samples_split=4,\n",
       "                      n_estimators=200)"
      ]
     },
     "execution_count": 34,
     "metadata": {},
     "output_type": "execute_result"
    }
   ],
   "source": [
    "rf_run = RandomForestRegressor(max_depth = 9,\n",
    "min_samples_leaf = 2,\n",
    "min_samples_split = 4,\n",
    "n_estimators = 200)\n",
    "\n",
    "rf_run.fit(X_train, y_train)"
   ]
  },
  {
   "cell_type": "code",
   "execution_count": 35,
   "id": "6e176fe6",
   "metadata": {},
   "outputs": [
    {
     "name": "stdout",
     "output_type": "stream",
     "text": [
      "train RMSE':2.523963067934637\n",
      "validation RMSE':2.79709588035188\n"
     ]
    }
   ],
   "source": [
    "train_predict = rf_run.predict(X_train)\n",
    "valid_predict = rf_run.predict(X_valid)\n",
    "\n",
    "print(\"train RMSE':{}\".format(math.sqrt(mean_squared_error(train_predict, y_train))) )\n",
    "print(\"validation RMSE':{}\".format(math.sqrt(mean_squared_error(valid_predict, y_valid))) )\n",
    " \n",
    "# predict\n",
    "rf_run_pred = rf_run.predict(test_X)"
   ]
  },
  {
   "cell_type": "code",
   "execution_count": 36,
   "id": "a700bd33-7e01-44d1-8e6e-ae2167eae26c",
   "metadata": {},
   "outputs": [
    {
     "data": {
      "text/html": [
       "<div>\n",
       "<style scoped>\n",
       "    .dataframe tbody tr th:only-of-type {\n",
       "        vertical-align: middle;\n",
       "    }\n",
       "\n",
       "    .dataframe tbody tr th {\n",
       "        vertical-align: top;\n",
       "    }\n",
       "\n",
       "    .dataframe thead th {\n",
       "        text-align: right;\n",
       "    }\n",
       "</style>\n",
       "<table border=\"1\" class=\"dataframe\">\n",
       "  <thead>\n",
       "    <tr style=\"text-align: right;\">\n",
       "      <th></th>\n",
       "      <th>id</th>\n",
       "      <th>target</th>\n",
       "    </tr>\n",
       "  </thead>\n",
       "  <tbody>\n",
       "    <tr>\n",
       "      <th>0</th>\n",
       "      <td>TEST_00000</td>\n",
       "      <td>4.760752</td>\n",
       "    </tr>\n",
       "    <tr>\n",
       "      <th>1</th>\n",
       "      <td>TEST_00001</td>\n",
       "      <td>5.500032</td>\n",
       "    </tr>\n",
       "    <tr>\n",
       "      <th>2</th>\n",
       "      <td>TEST_00002</td>\n",
       "      <td>6.113887</td>\n",
       "    </tr>\n",
       "    <tr>\n",
       "      <th>3</th>\n",
       "      <td>TEST_00003</td>\n",
       "      <td>4.548277</td>\n",
       "    </tr>\n",
       "    <tr>\n",
       "      <th>4</th>\n",
       "      <td>TEST_00004</td>\n",
       "      <td>5.540214</td>\n",
       "    </tr>\n",
       "  </tbody>\n",
       "</table>\n",
       "</div>"
      ],
      "text/plain": [
       "           id    target\n",
       "0  TEST_00000  4.760752\n",
       "1  TEST_00001  5.500032\n",
       "2  TEST_00002  6.113887\n",
       "3  TEST_00003  4.548277\n",
       "4  TEST_00004  5.540214"
      ]
     },
     "execution_count": 36,
     "metadata": {},
     "output_type": "execute_result"
    }
   ],
   "source": [
    "submit = pd.read_csv('./data/sample_submission.csv')\n",
    "submit['target'] = rf_run_pred\n",
    "submit.head()"
   ]
  },
  {
   "cell_type": "code",
   "execution_count": 37,
   "id": "775f70b8-5dc5-4158-9565-4452607df5a7",
   "metadata": {},
   "outputs": [],
   "source": [
    "submit.to_csv('./submission/submit_rf_gridsearchcv.csv', index = False)"
   ]
  },
  {
   "attachments": {},
   "cell_type": "markdown",
   "id": "440feb67",
   "metadata": {},
   "source": [
    "# StackingRegressor"
   ]
  },
  {
   "cell_type": "code",
   "execution_count": 38,
   "id": "14b911d6",
   "metadata": {},
   "outputs": [
    {
     "data": {
      "text/html": [
       "<style>#sk-container-id-4 {color: black;background-color: white;}#sk-container-id-4 pre{padding: 0;}#sk-container-id-4 div.sk-toggleable {background-color: white;}#sk-container-id-4 label.sk-toggleable__label {cursor: pointer;display: block;width: 100%;margin-bottom: 0;padding: 0.3em;box-sizing: border-box;text-align: center;}#sk-container-id-4 label.sk-toggleable__label-arrow:before {content: \"▸\";float: left;margin-right: 0.25em;color: #696969;}#sk-container-id-4 label.sk-toggleable__label-arrow:hover:before {color: black;}#sk-container-id-4 div.sk-estimator:hover label.sk-toggleable__label-arrow:before {color: black;}#sk-container-id-4 div.sk-toggleable__content {max-height: 0;max-width: 0;overflow: hidden;text-align: left;background-color: #f0f8ff;}#sk-container-id-4 div.sk-toggleable__content pre {margin: 0.2em;color: black;border-radius: 0.25em;background-color: #f0f8ff;}#sk-container-id-4 input.sk-toggleable__control:checked~div.sk-toggleable__content {max-height: 200px;max-width: 100%;overflow: auto;}#sk-container-id-4 input.sk-toggleable__control:checked~label.sk-toggleable__label-arrow:before {content: \"▾\";}#sk-container-id-4 div.sk-estimator input.sk-toggleable__control:checked~label.sk-toggleable__label {background-color: #d4ebff;}#sk-container-id-4 div.sk-label input.sk-toggleable__control:checked~label.sk-toggleable__label {background-color: #d4ebff;}#sk-container-id-4 input.sk-hidden--visually {border: 0;clip: rect(1px 1px 1px 1px);clip: rect(1px, 1px, 1px, 1px);height: 1px;margin: -1px;overflow: hidden;padding: 0;position: absolute;width: 1px;}#sk-container-id-4 div.sk-estimator {font-family: monospace;background-color: #f0f8ff;border: 1px dotted black;border-radius: 0.25em;box-sizing: border-box;margin-bottom: 0.5em;}#sk-container-id-4 div.sk-estimator:hover {background-color: #d4ebff;}#sk-container-id-4 div.sk-parallel-item::after {content: \"\";width: 100%;border-bottom: 1px solid gray;flex-grow: 1;}#sk-container-id-4 div.sk-label:hover label.sk-toggleable__label {background-color: #d4ebff;}#sk-container-id-4 div.sk-serial::before {content: \"\";position: absolute;border-left: 1px solid gray;box-sizing: border-box;top: 0;bottom: 0;left: 50%;z-index: 0;}#sk-container-id-4 div.sk-serial {display: flex;flex-direction: column;align-items: center;background-color: white;padding-right: 0.2em;padding-left: 0.2em;position: relative;}#sk-container-id-4 div.sk-item {position: relative;z-index: 1;}#sk-container-id-4 div.sk-parallel {display: flex;align-items: stretch;justify-content: center;background-color: white;position: relative;}#sk-container-id-4 div.sk-item::before, #sk-container-id-4 div.sk-parallel-item::before {content: \"\";position: absolute;border-left: 1px solid gray;box-sizing: border-box;top: 0;bottom: 0;left: 50%;z-index: -1;}#sk-container-id-4 div.sk-parallel-item {display: flex;flex-direction: column;z-index: 1;position: relative;background-color: white;}#sk-container-id-4 div.sk-parallel-item:first-child::after {align-self: flex-end;width: 50%;}#sk-container-id-4 div.sk-parallel-item:last-child::after {align-self: flex-start;width: 50%;}#sk-container-id-4 div.sk-parallel-item:only-child::after {width: 0;}#sk-container-id-4 div.sk-dashed-wrapped {border: 1px dashed gray;margin: 0 0.4em 0.5em 0.4em;box-sizing: border-box;padding-bottom: 0.4em;background-color: white;}#sk-container-id-4 div.sk-label label {font-family: monospace;font-weight: bold;display: inline-block;line-height: 1.2em;}#sk-container-id-4 div.sk-label-container {text-align: center;}#sk-container-id-4 div.sk-container {/* jupyter's `normalize.less` sets `[hidden] { display: none; }` but bootstrap.min.css set `[hidden] { display: none !important; }` so we also need the `!important` here to be able to override the default hidden behavior on the sphinx rendered scikit-learn.org. See: https://github.com/scikit-learn/scikit-learn/issues/21755 */display: inline-block !important;position: relative;}#sk-container-id-4 div.sk-text-repr-fallback {display: none;}</style><div id=\"sk-container-id-4\" class=\"sk-top-container\"><div class=\"sk-text-repr-fallback\"><pre>StackingRegressor(estimators=[(&#x27;rf&#x27;,\n",
       "                               RandomForestRegressor(max_depth=9,\n",
       "                                                     min_samples_leaf=2,\n",
       "                                                     min_samples_split=4,\n",
       "                                                     n_estimators=200)),\n",
       "                              (&#x27;gbr&#x27;, GradientBoostingRegressor()),\n",
       "                              (&#x27;svr&#x27;, SVR(kernel=&#x27;linear&#x27;))],\n",
       "                  final_estimator=RandomForestRegressor())</pre><b>In a Jupyter environment, please rerun this cell to show the HTML representation or trust the notebook. <br />On GitHub, the HTML representation is unable to render, please try loading this page with nbviewer.org.</b></div><div class=\"sk-container\" hidden><div class=\"sk-item sk-dashed-wrapped\"><div class=\"sk-label-container\"><div class=\"sk-label sk-toggleable\"><input class=\"sk-toggleable__control sk-hidden--visually\" id=\"sk-estimator-id-4\" type=\"checkbox\" ><label for=\"sk-estimator-id-4\" class=\"sk-toggleable__label sk-toggleable__label-arrow\">StackingRegressor</label><div class=\"sk-toggleable__content\"><pre>StackingRegressor(estimators=[(&#x27;rf&#x27;,\n",
       "                               RandomForestRegressor(max_depth=9,\n",
       "                                                     min_samples_leaf=2,\n",
       "                                                     min_samples_split=4,\n",
       "                                                     n_estimators=200)),\n",
       "                              (&#x27;gbr&#x27;, GradientBoostingRegressor()),\n",
       "                              (&#x27;svr&#x27;, SVR(kernel=&#x27;linear&#x27;))],\n",
       "                  final_estimator=RandomForestRegressor())</pre></div></div></div><div class=\"sk-serial\"><div class=\"sk-item\"><div class=\"sk-parallel\"><div class=\"sk-parallel-item\"><div class=\"sk-item\"><div class=\"sk-label-container\"><div class=\"sk-label sk-toggleable\"><label>rf</label></div></div><div class=\"sk-serial\"><div class=\"sk-item\"><div class=\"sk-estimator sk-toggleable\"><input class=\"sk-toggleable__control sk-hidden--visually\" id=\"sk-estimator-id-5\" type=\"checkbox\" ><label for=\"sk-estimator-id-5\" class=\"sk-toggleable__label sk-toggleable__label-arrow\">RandomForestRegressor</label><div class=\"sk-toggleable__content\"><pre>RandomForestRegressor(max_depth=9, min_samples_leaf=2, min_samples_split=4,\n",
       "                      n_estimators=200)</pre></div></div></div></div></div></div><div class=\"sk-parallel-item\"><div class=\"sk-item\"><div class=\"sk-label-container\"><div class=\"sk-label sk-toggleable\"><label>gbr</label></div></div><div class=\"sk-serial\"><div class=\"sk-item\"><div class=\"sk-estimator sk-toggleable\"><input class=\"sk-toggleable__control sk-hidden--visually\" id=\"sk-estimator-id-6\" type=\"checkbox\" ><label for=\"sk-estimator-id-6\" class=\"sk-toggleable__label sk-toggleable__label-arrow\">GradientBoostingRegressor</label><div class=\"sk-toggleable__content\"><pre>GradientBoostingRegressor()</pre></div></div></div></div></div></div><div class=\"sk-parallel-item\"><div class=\"sk-item\"><div class=\"sk-label-container\"><div class=\"sk-label sk-toggleable\"><label>svr</label></div></div><div class=\"sk-serial\"><div class=\"sk-item\"><div class=\"sk-estimator sk-toggleable\"><input class=\"sk-toggleable__control sk-hidden--visually\" id=\"sk-estimator-id-7\" type=\"checkbox\" ><label for=\"sk-estimator-id-7\" class=\"sk-toggleable__label sk-toggleable__label-arrow\">SVR</label><div class=\"sk-toggleable__content\"><pre>SVR(kernel=&#x27;linear&#x27;)</pre></div></div></div></div></div></div></div></div><div class=\"sk-item\"><div class=\"sk-parallel\"><div class=\"sk-parallel-item\"><div class=\"sk-item\"><div class=\"sk-label-container\"><div class=\"sk-label sk-toggleable\"><label>final_estimator</label></div></div><div class=\"sk-serial\"><div class=\"sk-item\"><div class=\"sk-estimator sk-toggleable\"><input class=\"sk-toggleable__control sk-hidden--visually\" id=\"sk-estimator-id-8\" type=\"checkbox\" ><label for=\"sk-estimator-id-8\" class=\"sk-toggleable__label sk-toggleable__label-arrow\">RandomForestRegressor</label><div class=\"sk-toggleable__content\"><pre>RandomForestRegressor()</pre></div></div></div></div></div></div></div></div></div></div></div></div>"
      ],
      "text/plain": [
       "StackingRegressor(estimators=[('rf',\n",
       "                               RandomForestRegressor(max_depth=9,\n",
       "                                                     min_samples_leaf=2,\n",
       "                                                     min_samples_split=4,\n",
       "                                                     n_estimators=200)),\n",
       "                              ('gbr', GradientBoostingRegressor()),\n",
       "                              ('svr', SVR(kernel='linear'))],\n",
       "                  final_estimator=RandomForestRegressor())"
      ]
     },
     "execution_count": 38,
     "metadata": {},
     "output_type": "execute_result"
    }
   ],
   "source": [
    "from sklearn.ensemble import RandomForestRegressor, GradientBoostingRegressor, StackingRegressor\n",
    "from sklearn.svm import SVR\n",
    "from sklearn.linear_model import LinearRegression\n",
    "\n",
    "rf = RandomForestRegressor(max_depth = 9, min_samples_leaf = 2, min_samples_split = 4, n_estimators = 200)\n",
    "gbr = GradientBoostingRegressor(n_estimators = 100, learning_rate = 0.1)\n",
    "svr = SVR(kernel = 'linear')\n",
    "meta_model = RandomForestRegressor()\n",
    "\n",
    "stack = [('rf', rf), ('gbr', gbr), ('svr', svr)]\n",
    "\n",
    "stacked_model = StackingRegressor(estimators = stack, final_estimator = meta_model)\n",
    "stacked_model.fit(X_train, y_train)"
   ]
  },
  {
   "cell_type": "code",
   "execution_count": 39,
   "id": "96bd7558",
   "metadata": {},
   "outputs": [
    {
     "name": "stdout",
     "output_type": "stream",
     "text": [
      "train RMSE':2.6255940290924134\n",
      "validation RMSE':2.962478276422581\n"
     ]
    }
   ],
   "source": [
    "stacked_pred_train = stacked_model.predict(X_train)\n",
    "stacked_pred_valid = stacked_model.predict(X_valid)\n",
    "\n",
    "print(\"train RMSE':{}\".format(math.sqrt(mean_squared_error(stacked_pred_train, y_train))) )\n",
    "print(\"validation RMSE':{}\".format(math.sqrt(mean_squared_error(stacked_pred_valid, y_valid))) )\n",
    " \n",
    "# predict\n",
    "stacked_pred = stacked_model.predict(test_X)"
   ]
  },
  {
   "cell_type": "code",
   "execution_count": 40,
   "id": "9be49a33",
   "metadata": {},
   "outputs": [
    {
     "data": {
      "text/html": [
       "<div>\n",
       "<style scoped>\n",
       "    .dataframe tbody tr th:only-of-type {\n",
       "        vertical-align: middle;\n",
       "    }\n",
       "\n",
       "    .dataframe tbody tr th {\n",
       "        vertical-align: top;\n",
       "    }\n",
       "\n",
       "    .dataframe thead th {\n",
       "        text-align: right;\n",
       "    }\n",
       "</style>\n",
       "<table border=\"1\" class=\"dataframe\">\n",
       "  <thead>\n",
       "    <tr style=\"text-align: right;\">\n",
       "      <th></th>\n",
       "      <th>id</th>\n",
       "      <th>target</th>\n",
       "    </tr>\n",
       "  </thead>\n",
       "  <tbody>\n",
       "    <tr>\n",
       "      <th>0</th>\n",
       "      <td>TEST_00000</td>\n",
       "      <td>4.79709</td>\n",
       "    </tr>\n",
       "    <tr>\n",
       "      <th>1</th>\n",
       "      <td>TEST_00001</td>\n",
       "      <td>6.83895</td>\n",
       "    </tr>\n",
       "    <tr>\n",
       "      <th>2</th>\n",
       "      <td>TEST_00002</td>\n",
       "      <td>7.47238</td>\n",
       "    </tr>\n",
       "    <tr>\n",
       "      <th>3</th>\n",
       "      <td>TEST_00003</td>\n",
       "      <td>5.26223</td>\n",
       "    </tr>\n",
       "    <tr>\n",
       "      <th>4</th>\n",
       "      <td>TEST_00004</td>\n",
       "      <td>6.52631</td>\n",
       "    </tr>\n",
       "  </tbody>\n",
       "</table>\n",
       "</div>"
      ],
      "text/plain": [
       "           id   target\n",
       "0  TEST_00000  4.79709\n",
       "1  TEST_00001  6.83895\n",
       "2  TEST_00002  7.47238\n",
       "3  TEST_00003  5.26223\n",
       "4  TEST_00004  6.52631"
      ]
     },
     "execution_count": 40,
     "metadata": {},
     "output_type": "execute_result"
    }
   ],
   "source": [
    "submit = pd.read_csv('./data/sample_submission.csv')\n",
    "submit['target'] = stacked_pred\n",
    "submit.head()"
   ]
  },
  {
   "cell_type": "code",
   "execution_count": 41,
   "id": "a5f6fa18",
   "metadata": {},
   "outputs": [],
   "source": [
    "submit.to_csv('./submission/submit_stacking.csv', index = False)"
   ]
  }
 ],
 "metadata": {
  "kernelspec": {
   "display_name": "Python 3",
   "language": "python",
   "name": "python3"
  },
  "language_info": {
   "codemirror_mode": {
    "name": "ipython",
    "version": 3
   },
   "file_extension": ".py",
   "mimetype": "text/x-python",
   "name": "python",
   "nbconvert_exporter": "python",
   "pygments_lexer": "ipython3",
   "version": "3.8.5"
  },
  "vscode": {
   "interpreter": {
    "hash": "56cb69c9171c2466ab5c1519780cc999a5f33d9b7b89c42e38f2181206ba8940"
   }
  }
 },
 "nbformat": 4,
 "nbformat_minor": 5
}
